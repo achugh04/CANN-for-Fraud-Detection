{
 "cells": [
  {
   "cell_type": "markdown",
   "id": "d648028b",
   "metadata": {},
   "source": [
    "# Undersampling method approach"
   ]
  },
  {
   "cell_type": "code",
   "execution_count": 1,
   "id": "d4ff7f7a",
   "metadata": {},
   "outputs": [],
   "source": [
    "import pandas  as pd\n",
    "import matplotlib.pyplot as plt\n",
    "import numpy as np\n",
    "from collections import Counter\n",
    "from sklearn.datasets import make_classification as mkc\n",
    "from imblearn.under_sampling import NearMiss\n",
    "from sklearn.ensemble import RandomForestClassifier\n",
    "\n",
    "%matplotlib inline\n",
    "\n",
    "data = pd.read_csv('/Users/abhiishekchugh/Documents/GitHub/CANN-for-Fraud-Detection/Automobile Insurance/data/pre-processing done/Pre-Processed-Encoded_Chugh_WOE_FOR_ALL.csv')\n"
   ]
  },
  {
   "cell_type": "code",
   "execution_count": 2,
   "id": "b7372f30",
   "metadata": {},
   "outputs": [
    {
     "name": "stdout",
     "output_type": "stream",
     "text": [
      "Shape of X: (15420, 23)\n",
      "Shape of y: (15420, 1)\n"
     ]
    },
    {
     "data": {
      "image/png": "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\n",
      "text/plain": [
       "<Figure size 432x288 with 1 Axes>"
      ]
     },
     "metadata": {
      "needs_background": "light"
     },
     "output_type": "display_data"
    }
   ],
   "source": [
    "#plotting number of Fraud and non-Fraud\n",
    "pd.value_counts(data['FraudFound']).plot.bar()\n",
    "plt.title('Fraud class histogram')\n",
    "plt.xlabel('Fraud Found')\n",
    "plt.ylabel('Frequency')\n",
    "data['FraudFound'].value_counts()\n",
    "\n",
    "X = np.array(data.iloc[:, data.columns != 'FraudFound'])\n",
    "y = np.array(data.iloc[:, data.columns == 'FraudFound'])\n",
    "print('Shape of X: {}'.format(X.shape))\n",
    "print('Shape of y: {}'.format(y.shape))"
   ]
  },
  {
   "cell_type": "code",
   "execution_count": 3,
   "id": "53229f6c",
   "metadata": {},
   "outputs": [
    {
     "name": "stdout",
     "output_type": "stream",
     "text": [
      "Number policies X_train dataset:  (10794, 23)\n",
      "Number policies  y_train dataset:  (10794, 1)\n",
      "Number policies  X_test dataset:  (4626, 23)\n",
      "Number policies  y_test dataset:  (4626, 1)\n",
      "Before UnderSampling, counts of label '1': [638]\n",
      "Before UnderSampling, counts of label '0': [10156] \n",
      "\n"
     ]
    }
   ],
   "source": [
    "from sklearn.model_selection import train_test_split\n",
    "\n",
    "X_train, X_test, y_train, y_test = train_test_split(X, y, test_size=0.3, random_state=42)\n",
    "\n",
    "print(\"Number policies X_train dataset: \", X_train.shape)\n",
    "print(\"Number policies  y_train dataset: \", y_train.shape)\n",
    "print(\"Number policies  X_test dataset: \", X_test.shape)\n",
    "print(\"Number policies  y_test dataset: \", y_test.shape)\n",
    "\n",
    "print(\"Before UnderSampling, counts of label '1': {}\".format(sum(y_train==1)))\n",
    "print(\"Before UnderSampling, counts of label '0': {} \\n\".format(sum(y_train==0)))\n",
    "# data.columns.size"
   ]
  },
  {
   "cell_type": "markdown",
   "id": "eae39522",
   "metadata": {},
   "source": [
    "## Undersampling Step"
   ]
  },
  {
   "cell_type": "code",
   "execution_count": 4,
   "id": "ca93bd7b",
   "metadata": {},
   "outputs": [],
   "source": [
    "undersample = NearMiss(version=3, n_neighbors=3)\n",
    "X_train_under, y_train_under = undersample.fit_resample(X_train, y_train)\n",
    "\n",
    "# X_train_res, y_train_res = mkc(n_samples=10794, n_features=98, n_redundant=0, random_state=1)"
   ]
  },
  {
   "cell_type": "markdown",
   "id": "a4d888ee",
   "metadata": {},
   "source": [
    "## Plotting the undersampled data selected using NearMiss version=2"
   ]
  },
  {
   "cell_type": "code",
   "execution_count": 5,
   "id": "f6e04ef9",
   "metadata": {},
   "outputs": [
    {
     "data": {
<<<<<<< Updated upstream
      "image/png": "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\n",
=======
      "image/png": "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\n",
>>>>>>> Stashed changes
      "text/plain": [
       "<Figure size 432x288 with 1 Axes>"
      ]
     },
     "metadata": {
      "needs_background": "light"
     },
     "output_type": "display_data"
    }
   ],
   "source": [
    "counter = Counter(y_train_under)\n",
    "\n",
    "# scatter plot of examples by class label\n",
    "for label, _ in counter.items():\n",
    "    row_ix = np.where(y_train_under == label)[0]\n",
    "    plt.scatter(X_train_under[row_ix, 0], X_train_under[row_ix, 1], label=str(label))\n",
    "plt.legend()\n",
    "plt.show()"
   ]
  },
  {
   "cell_type": "code",
   "execution_count": 6,
   "id": "230b9b42",
   "metadata": {},
   "outputs": [
    {
     "name": "stdout",
     "output_type": "stream",
     "text": [
      "After UnderSampling, the shape of train_X: (1276, 23)\n",
      "After UnderSampling, the shape of train_y: (1276,) \n",
      "\n",
      "After UnderSampling, counts of label '1': 638\n",
      "After UnderSampling, counts of label '0': 638\n"
     ]
    }
   ],
   "source": [
    "print('After UnderSampling, the shape of train_X: {}'.format(X_train_under.shape))\n",
    "print('After UnderSampling, the shape of train_y: {} \\n'.format(y_train_under.shape))\n",
    "\n",
    "print(\"After UnderSampling, counts of label '1': {}\".format(sum(y_train_under==1)))\n",
    "print(\"After UnderSampling, counts of label '0': {}\".format(sum(y_train_under==0)))"
   ]
  },
  {
   "cell_type": "markdown",
   "id": "af3728eb-bdde-4064-9196-95396ec584ba",
   "metadata": {
    "id": "W0E0BFunDxoB"
   },
   "source": [
    "# Creating Random Forest Classifier"
   ]
  },
  {
   "cell_type": "code",
   "execution_count": 7,
   "id": "ed0bff80-2fa9-49e0-85d4-722a43731cef",
   "metadata": {
    "colab": {
     "base_uri": "https://localhost:8080/"
    },
    "id": "KCexTkNaDwK4",
    "outputId": "00a230a7-8738-4ae3-fa6c-71ab34a1b27f"
   },
   "outputs": [
    {
     "data": {
      "text/plain": [
       "RandomForestClassifier(criterion='entropy', n_estimators=10, random_state=42)"
      ]
     },
     "execution_count": 7,
     "metadata": {},
     "output_type": "execute_result"
    }
   ],
   "source": [
    "# Fitting Random Forest Classification to the Training set\n",
    "from sklearn.ensemble import RandomForestClassifier\n",
    "from sklearn.metrics import confusion_matrix, precision_recall_curve, auc, roc_auc_score, roc_curve, recall_score, classification_report\n",
    "\n",
    "\n",
    "classifier = RandomForestClassifier(n_estimators = 10, criterion= 'entropy', random_state = 42)\n",
    "classifier.fit(X_train_under, y_train_under)"
   ]
  },
  {
   "cell_type": "code",
   "execution_count": 8,
   "id": "d0c49c40-5f7a-4a99-91dc-89ea8cd27c75",
   "metadata": {
    "id": "lreKGwc3gLW-"
   },
   "outputs": [],
   "source": [
    "# Predicting the Test set results\n",
    "y_pred_train = classifier.predict(X_train_under)\n",
    "y_pred = classifier.predict(X_test)"
   ]
  },
  {
   "cell_type": "markdown",
   "id": "ff142ef7-f8b9-45da-bb0f-da2a4aa161e0",
   "metadata": {},
   "source": [
    "## Confusion matrix plotting function"
   ]
  },
  {
   "cell_type": "code",
   "execution_count": 9,
   "id": "0adf8c3c-2cd4-467c-978a-96878b76bf01",
   "metadata": {},
   "outputs": [],
   "source": [
    "import itertools\n",
    "\n",
    "def plot_confusion_matrix(cm, classes,\n",
    "                          normalize=False,\n",
    "                          title='Confusion matrix',\n",
    "                          cmap=plt.cm.Blues):\n",
    "    \"\"\"\n",
    "    This function prints and plots the confusion matrix.\n",
    "    Normalization can be applied by setting `normalize=True`.\n",
    "    \"\"\"\n",
    "    plt.imshow(cm, interpolation='nearest', cmap=cmap)\n",
    "    plt.title(title)\n",
    "    plt.colorbar()\n",
    "    tick_marks = np.arange(len(classes))\n",
    "    plt.xticks(tick_marks, classes, rotation=0)\n",
    "    plt.yticks(tick_marks, classes)\n",
    "\n",
    "    if normalize:\n",
    "        cm = cm.astype('float') / cm.sum(axis=1)[:, np.newaxis]\n",
    "        #print(\"Normalized confusion matrix\")\n",
    "    else:\n",
    "        1#print('Confusion matrix, without normalization')\n",
    "\n",
    "    #print(cm)\n",
    "\n",
    "    thresh = cm.max() / 2.\n",
    "    for i, j in itertools.product(range(cm.shape[0]), range(cm.shape[1])):\n",
    "        plt.text(j, i, cm[i, j],\n",
    "                 horizontalalignment=\"center\",\n",
    "                 color=\"white\" if cm[i, j] > thresh else \"black\")\n",
    "\n",
    "    plt.tight_layout()\n",
    "    plt.ylabel('True label')\n",
    "    plt.xlabel('Predicted label')"
   ]
  },
  {
   "cell_type": "code",
   "execution_count": 10,
   "id": "13f7aea9-74ec-48b6-8db1-70fca1a6f514",
   "metadata": {},
   "outputs": [
    {
     "name": "stdout",
     "output_type": "stream",
     "text": [
<<<<<<< Updated upstream
      "Recall metric in the train dataset: 100.0%\n",
      "Precision metric in the train dataset: 100.0%\n"
=======
      "Recall metric in the train dataset: 97.17868338557994%\n",
      "Precision metric in the train dataset: 97.25190839694656%\n"
>>>>>>> Stashed changes
     ]
    },
    {
     "data": {
<<<<<<< Updated upstream
      "image/png": "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\n",
=======
      "image/png": "iVBORw0KGgoAAAANSUhEUgAAAU0AAAEmCAYAAADmw8JdAAAAOXRFWHRTb2Z0d2FyZQBNYXRwbG90bGliIHZlcnNpb24zLjQuMywgaHR0cHM6Ly9tYXRwbG90bGliLm9yZy/MnkTPAAAACXBIWXMAAAsTAAALEwEAmpwYAAAfdUlEQVR4nO3de5xVVf3/8dd7QPDuFwQUEQx10lATFUnTvGQmmoX1i68oFpZ9ybKszEwrbxVlF0srrdRSShOxNMgLapTXr18UFBXwAokiF4FBRVFBLp/fH3uPHnDmzN5wzuw5M++nj/045+yz9tqfM/T4tPZaa6+tiMDMzLKpKzoAM7Na4qRpZpaDk6aZWQ5OmmZmOThpmpnl4KRpZpaDk2YHI2kzSf+QtEzSjRtRzwhJd1YytqJI+pCkp4uOw2qDPE+zbZJ0InAGsDvwGjANGB0R929kvZ8Bvgp8MCJWb2ycbZ2kAOojYnbRsVj74JZmGyTpDOAS4EfAdkA/4HJgaAWq3wl4piMkzCwkdS46BqsxEeGtDW3ANsByYFiZMl1JkuqCdLsE6Jp+dxgwD/gmsBhYCHwu/e5C4C1gVXqOU4ALgGtL6n4PEEDn9PPJwLMkrd05wIiS/feXHPdB4GFgWfr6wZLv7gZ+ADyQ1nMn0KOZ39YY/1kl8R8HHAM8A7wEfKek/GDgQeCVtOxvgC7pd/emv+X19PceX1L/t4EXgT837kuP2SU9x77p5x2ABuCwov+34a1tbG5ptj0HApsCN5cp813gAGAgsDdJ4vheyffbkyTfPiSJ8TJJ3SLifJLW6w0RsWVE/KFcIJK2AH4FHB0RW5EkxmlNlOsO3JqW3Rb4BXCrpG1Lip0IfA7oBXQBzixz6u1J/gZ9gPOAK4GTgP2ADwHnSdo5LbsG+AbQg+RvdwTwZYCIOCQts3f6e28oqb87Sat7VOmJI+I/JAn1OkmbA1cD10TE3WXitQ7ESbPt2RZoiPKXzyOA70fE4ohYQtKC/EzJ96vS71dFxG0krazdNjCetcCekjaLiIURMaOJMh8DZkXEnyNidURcDzwFfLykzNUR8UxEvAmMI0n4zVlF0n+7ChhLkhAvjYjX0vPPAN4PEBFTI+L/0vM+B/weODTDbzo/Ilam8awjIq4EZgGTgd4k/ydlBjhptkVLgR4t9LXtADxf8vn5dN/bdayXdN8AtswbSES8TnJJeyqwUNKtknbPEE9jTH1KPr+YI56lEbEmfd+Y1BaVfP9m4/GS3ivpFkkvSnqVpCXdo0zdAEsiYkULZa4E9gR+HRErWyhrHYiTZtvzILCCpB+vOQtILi0b9Uv3bYjXgc1LPm9f+mVE3BERR5K0uJ4iSSYtxdMY0/wNjCmP35LEVR8RWwPfAdTCMWWnjEjakqSf+A/ABWn3gxngpNnmRMQykn68yyQdJ2lzSZtIOlrST9Ni1wPfk9RTUo+0/LUbeMppwCGS+knaBjin8QtJ20n6RNq3uZLkMn9NE3XcBrxX0omSOks6HhgA3LKBMeWxFfAqsDxtBX9pve8XATu/66jyLgWmRsQXSPpqf7fRUVq74aTZBkXEL0jmaH4PWAK8AHwF+Hta5IfAFOBx4AngkXTfhpzrLuCGtK6prJvo6khG4ReQjCgfSjrIsl4dS4Fj07JLSUa+j42Ihg2JKaczSQaZXiNpBd+w3vcXAGMkvSLpv1uqTNJQYAhJlwQk/w77ShpRsYitpnlyu5lZDm5pmpnl4KRpZpaDk6aZWQ5OmmZmObSpxQrUebNQl62KDsMqaJ/39Ss6BKug559/joaGhpbmwWbWaeudIla/66asZsWbS+6IiCGVOv+GaFtJs8tWdN2txVkhVkMemPybokOwCjroA4MqWl+sXkHX3YdnLr/i0V+3dLdX1bWppGlmHYwAVazh2iqcNM2sWKqtoRUnTTMrlluaZmZZyS1NM7Nc3NI0M8tIuKVpZpad3NI0M8vFLU0zs6wEdZ2KDiKX2krxZta+NE5uz7plqVL6L0l/lfSUpCclHSipu6S7JM1KX7uVlD9H0mxJT0s6qqX6nTTNrFiqy75lcykwMSJ2J3nE9ZPA2cCkiKgHJqWfkTQAGA7sQbJi/+WSyjZ9nTTNrECqaNKUtDVwCMlD8YiItyLiFWAoMCYtNoZ3Hlw4FBibPs55DjAbGFzuHE6aZlasOmXfksdbTynZRq1X284kz9W6WtKjkq5KHwy4XUQsBEhfe6Xl+5A8g6vRPNZ99PS7eCDIzIqTf55mQ0SUW2qpM7Av8NWImCzpUtJL8TIRrK/sg9Pc0jSzYlV2IGgeMC8iJqef/0qSRBdJ6p2cTr2BxSXl+5YcvyPJ01eb5aRpZgWqbJ9mRLwIvCBpt3TXEcBMYAIwMt03Ehifvp8ADJfUVVJ/oB54qNw5fHluZsWq/B1BXwWuk9QFeBb4HEkDcZykU4C5wDCAiJghaRxJYl0NnBYRa8pV7qRpZsWq8B1BETENaKrf84hmyo8GRmet30nTzIqj2rsjyEnTzIrlBTvMzLLyIsRmZvm4pWlmlpEXITYzy8OX52Zm+fjy3MwsB7c0zcxycEvTzCwjuU/TzCwX1TlpmpllkjwiyJfnZmbZiKaXAW7DnDTNrEByS9PMLA8nTTOzHJw0zcxycNI0M8vKA0FmZtnJA0FmZvk4aZqZ5eCkaWaWlUB1TppmZpm5pWlmlpEHgszMcnLSNDPLo7ZyppOmmRVItdfSrK3VP82s3ZGUectY33OSnpA0TdKUdF93SXdJmpW+dispf46k2ZKelnRUS/U7aZpZoSqdNFOHR8TAiBiUfj4bmBQR9cCk9DOSBgDDgT2AIcDlkjqVq9hJ08wK0zh6XoWkub6hwJj0/RjguJL9YyNiZUTMAWYDg8tV5KRpZsVSji2bAO6UNFXSqHTfdhGxECB97ZXu7wO8UHLsvHRfszwQZGbFEdTle7Baj8Z+ytQVEXHFemUOiogFknoBd0l6qnwE7xLlAnDSrIJtttyM355/IgN26U0EnHrhdRx18ACOPfT9rI1gyUuvMer8a1m4ZBnDjx7E10d+5O1j96rfgQNP+AmPPzO/wF9gWX3xC5/n9ttuoWevXkydNr3ocGpSzsvuhpJ+yiZFxIL0dbGkm0kutxdJ6h0RCyX1BhanxecBfUsO3xFYUK5+X55Xwc/P+jR3/u9MBn7qhww+/sc89eyL/HLMJAYf/2MOGH4Rt983nXNGHQ3A2NuncMDwizhg+EWc8r0/8fyCl5wwa8hnRp7M+FsmFh1Gbavg5bmkLSRt1fge+CgwHZgAjEyLjQTGp+8nAMMldZXUH6gHHip3Drc0K2yrLTbl4H134X/O+zMAq1avYdnyN9cps/lmXYl49xXAfw/Zj3ETp7ZKnFYZB3/oEJ5/7rmiw6hpFZ6nuR1wc1pnZ+AvETFR0sPAOEmnAHOBYQARMUPSOGAmsBo4LSLWlDuBk2aF9e+zLQ0vL+eKC09ir/f24dEnX+DMn/6VN1a8xQWnfZwRxw5m2fI3GTLqV+869tMf3Zdh31i/e8as/arAqPg6IuJZYO8m9i8FjmjmmNHA6KznqOrluaQh6YTR2ZLOrua52orOnTsxcPe+XHnjfRx4wk94482VnPn5IwG44LJ/UH/0uYy9fQqnHn/IOsftv+dOvLFiFTP/s7CIsM0K00pTjiqmakkznSB6GXA0MAA4IZ1I2q7NX/Qy8xe/wsPTnwfg5n9OY+DufdcpM+72hznuiIHr7Bt21H6MmzgFs47GSfMdg4HZEfFsRLwFjCWZSNquLVr6GvNefJn6nZJpYIcN3o2nnn2RXfr1fLvMxw59P888t+jtz5L41JH7cOMd7s+0Dqjy8zSrqpp9mk1NGv3A+oXSyafJBNRNtqxiOK3njJ/cyNU/OpkunTvx3PwGRp1/Lb89fwT1O/Vi7dpg7sKXOH302LfLH7zvrsxf9ArPzV9aYNS2IT570gncd8/dNDQ0sMt7duTc8y7k5M+fUnRYNaWttCCzqmbSzDRpNJ2YegVA3ea9yk4qrRWPPzOfg0f8dJ19J5x5VbPl75s6i0NHXlztsKwK/nTt9UWHUNtqcJWjaibN3JNGzaxjEaKuxp4RVM0+zYeBekn9JXUhWUlkQhXPZ2Y1SMq+tQVVa2lGxGpJXwHuADoBf4yIGdU6n5nVJl+el4iI24DbqnkOM6thbagFmZXvCDKzwghqrk/TSdPMCuWWpplZDu7TNDPLyn2aZmbZCbc0zcxyaDsLcWTlpGlmhaqxnOmkaWYFkqccmZll5j5NM7OcaixnOmmaWbHc0jQzy6HGcqaTppkVyIsQm5lllwwEFR1FPk6aZlYgT243M8ulxnKmk6aZFcstTTOzjOQ7gszM8qm1lmY1n0ZpZtaiajyNUlInSY9KuiX93F3SXZJmpa/dSsqeI2m2pKclHdVS3U6aZlYoSZm3HL4GPFny+WxgUkTUA5PSz0gaQPJ48T2AIcDlkjqVq9hJ08yKk6OVmTVnStoR+BhwVcnuocCY9P0Y4LiS/WMjYmVEzAFmA4PL1e+kaWaFEdlbmWlLs4ekKSXbqCaqvQQ4C1hbsm+7iFgIkL72Svf3AV4oKTcv3dcsDwSZWaFyjgM1RMSg5uvSscDiiJgq6bAsp29iX5Q7wEnTzApVV9nR84OAT0g6BtgU2FrStcAiSb0jYqGk3sDitPw8oG/J8TsCC8rGW8lozczyqmSfZkScExE7RsR7SAZ4/hURJwETgJFpsZHA+PT9BGC4pK6S+gP1wEPlzuGWppkVRq23ytFFwDhJpwBzgWEAETFD0jhgJrAaOC0i1pSryEnTzArVqUp3BEXE3cDd6fulwBHNlBsNjM5ar5OmmRWqxm4IctI0s+KIZNpRLWk2aUr6NWWG3iPi9KpEZGYdSo2t11G2pTml1aIws44p/+2RhWs2aUbEmNLPkraIiNerH5KZdSQ1ljNbnqcp6UBJM0lvfpe0t6TLqx6ZmbV7IpncnnVrC7JMbr8EOApYChARjwGHVDEmM+tAqrE0XDVlGj2PiBfW63coO/nTzCyrdtOnWeIFSR8EQlIX4HTWXafOzGyDtKUWZFZZkuapwKUkyyXNB+4ATqtmUGbWcbSVvsqsWkyaEdEAjGiFWMysA6q1pJll9HxnSf+QtETSYknjJe3cGsGZWfuWjJ5n39qCLKPnfwHGAb2BHYAbgeurGZSZdRA5Vm1vKwNGWZKmIuLPEbE63a6lhZWNzcyyajdTjiR1T9/+W9LZwFiSZHk8cGsrxGZmHUBbaUFmVW4gaCpJkmz8RV8s+S6AH1QrKDPrGBr7NGtJuXvP+7dmIGbWMbWnlubbJO0JDCB5UBEAEfGnagVlZh1HbaXMDElT0vnAYSRJ8zbgaOB+wEnTzDaK1A7naQKfJnm2xosR8Tlgb6BrVaMysw6j3Yyel3gzItZKWi1pa5LnBXtyu5lVRF2NjQRlSZpTJP0XcCXJiPpyWngusJlZFqLtrJOZVZZ7z7+cvv2dpInA1hHxeHXDMrMOoQ1ddmdVbnL7vuW+i4hHqhOSmXUk7WnK0cVlvgvgwxWOhYHv68c9D/yq0tVagbod9K2iQ7AKWvnUvIrXmWU0ui0pN7n98NYMxMw6HtG+WppmZlVXY4PnTppmVqxaS5q11p1gZu1IMmm9cutpStpU0kOSHpM0Q9KF6f7uku6SNCt97VZyzDmSZkt6WtJRLZ0jy8rtknSSpPPSz/0kDW4xejOzDCq8cvtK4MMRsTcwEBgi6QDgbGBSRNQDk9LPSBoADAf2AIYAl0vqVDbeDEFcDhwInJB+fg24LFP4ZmZlCOhUp8xbSyKxPP24SboFMBQYk+4fAxyXvh8KjI2IlRExB5gNlG0UZkmaH4iI04AVaVAvA10yHGdm1qK6HBvQQ9KUkm3U+vVJ6iRpGskt33dFxGRgu4hYCJC+9kqL9wFeKDl8XrqvWVkGglalzdVIA+oJrM1wnJlZi3LOOGqIiEHlCkTEGmBgevv3zenSls2evqkqytWfpaX5K+BmoJek0STLwv0ow3FmZmVJyb3nWbc8IuIV4G6SvspFknqn5+xN0gqFpGXZt+SwHYEF5eptMWlGxHXAWcCPgYXAcRFxY67ozcyaUcml4ST1TFuYSNoM+AjwFDABGJkWGwmMT99PAIZL6iqpP1BPCwsSZVmEuB/wBvCP0n0RMbfln2BmVl6F52n2BsakXYp1wLiIuEXSg8A4SacAc4FhABExQ9I4YCawGjgtvbxvVpY+zVt55wFrmwL9gadJhujNzDZY8mC1ymXNdAW2fZrYv5RkMfWmjhkNjM56jixLw+1V+jld/eiLzRQ3M8ulxm49z38bZUQ8Imn/agRjZh1M9knrbUaWPs0zSj7WAfsCS6oWkZl1KKqx51FmaWluVfJ+NUkf59+qE46ZdSRJn2bRUeRTNmmmI1BbRoRXkjWzqshye2RbUu5xF50jYnW5x16YmW2M9tbSfIik/3KapAnAjcDrjV9GxE1Vjs3M2rv29GC1Et2BpSTPBGqcrxmAk6aZbbT29AjfXunI+XTeSZaNyt7QbmaWRXu7PO8EbMkGrAJiZpZVjTU0yybNhRHx/VaLxMw6IFHXjuZp1tYvMbOakzzCt+go8imXNJu8ud3MrGLa022UEfFSawZiZh1Texo9NzOrqsYHq9USJ00zK1SNNTSdNM2sOCLbg8raEidNMyuOkoer1RInTTMrVG2lTCdNMytQpZ8R1BqcNM2sULWVMp00zaxgNdbQdNI0syLJA0FmZll5ypGZWU4eCDIzy8rzNM3MsvPluZlZTrXW0qy1JG9m7YxybC3WJfWV9G9JT0qaIelr6f7uku6SNCt97VZyzDmSZkt6WtJRLZ3DSdPMCiVl3zJYDXwzIt4HHACcJmkAcDYwKSLqgUnpZ9LvhgN7AEOAyyV1KncCJ00zK0zSp6nMW0siYmFEPJK+fw14EugDDAXGpMXGAMel74cCYyNiZUTMAWYDg8udw0nTzAqVs6XZQ9KUkm1U8/XqPcA+wGRgu4hYCEliBXqlxfoAL5QcNi/d1ywPBJlZgYTy3X3eEBGDWqxV2hL4G/D1iHi1zGBT7keUu6VpZoWqcJ8mkjYhSZjXRcRN6e5Fknqn3/cGFqf75wF9Sw7fEVhQrn4nTTMrTKX7NJU0Kf8APBkRvyj5agIwMn0/Ehhfsn+4pK6S+gP1wEPlzuHLczMrjqCusk23g4DPAE9Impbu+w5wETBO0inAXGAYQETMkDQOmEky8n5aRKwpdwInTTMrVM4+zbIi4n6an9J5RDPHjAZGZz2Hk6aZFSZZub3oKPJx0qyyL3/xFCbefis9e/Zi8tTHAXj8sWl8/atfZuXKFXTu3JmLL/kNg/YvOzXMCrbNlpvy2+8OY8DO2xMRnPrDGxl6+J4cc/AA3lq1hjnzlzLqBzewbPkKAM4ceTgnf3wwa9au5ZsXj+efk58p+Be0XZVsabYGDwRV2YjPjOSm8bets+/c736bs797Lg9MfoTvnHsB53337IKis6x+fsZQ7nzwaQYe/zMGn/RLnnpuEZMemsV+J17M4JN+way5S/jWyA8DsHv/Xgw7ciD7nvBzPvG1q7j0rE9RV2vNqVZU6dHzanPSrLKDDj6Ebt27r7NPEq+9+ioAry5bxva9excRmmW01RZdOXifnblmQjKoumr1GpYtX8Gkyc+wZs1aAB6aPpc+vbYB4NhD9uDGu6bx1qo1PL/wZf4zr4H9B/QrLP62Tjn+awt8eV6An/zsl3zy40fzvXPOYu3atdz17/uLDsnK6L/DtjS8vJwrzj2evep78+hT8zjzF+N5Y8Wqt8t89uP789d/PgZAn57bMHn63Le/m794GTv02rrV464FtdinWbWWpqQ/SlosaXq1zlGrrrrid/z4pxfz5Ozn+fFPL+YrX/qfokOyMjp3qmPgbn248qb/5cDPXsIbK97izPRSHOCskz/MmjVrGTvxkWRHE9eRUfYek44sTzuzbWTXal6eX0Oyaoit5/rr/sQnjvsUAJ/8f8OYOqXsXFor2PzFy5i/eBkPz0huUb75X08wcLfk9uQRx+zHMQcP4OTz/lJS/hV23G6btz/36bUNC5e82rpB14oc/Zntvk8zIu4FXqpW/bVs+947cP999wBwz93/Ypdd6wuOyMpZ9NJrzFv8CvX9egJw2KBdeWrOIo48YDe++dnD+fSZV/Pmyncu1W+9dybDjhxIl006sVPvbuzatwcPz5zbXPUdXiXX02wNhfdppquUjALo27f9dZZ/7rMncv9997C0oYHdd+nHd849n19f9nu+/a1vsHr1arp23ZRLf/O7osO0Fpzx8/Fc/f0T6NK5M88tWMqoH4zj/qtPp2uXztzy62ShnYemP8/pP7mJJ+cs4m//fIxHx36L1WvW8PWf3czatb4+b4qATm2lCZmRooqdLenSTLdExJ5Zyu+736C45wFfqrYnvQ79dtEhWAWtnP5n1r7+YsWy3Pv22ieu/vu/M5c/cNduU7OsclRNhbc0zaxjaysDPFk5aZpZoWrs6ryqU46uBx4EdpM0L11dxMxsHR4ISkXECdWq28zakbaSDTPy5bmZFSZpQdZW1nTSNLPitKFJ61k5aZpZoWosZzppmlnBaixrOmmaWYFEXY1dnztpmllh2tJUoqycNM2sWDWWNZ00zaxQnnJkZpZDjXVpOmmaWbFqLGc6aZpZgWpwJMhJ08wK5T5NM7OMRO31afq552ZWqEouDdfUU3AldZd0l6RZ6Wu3ku/OkTRb0tOSjsoSr5OmmRWrsgtqXsO7n4J7NjApIuqBSelnJA0AhgN7pMdcLqlTSydw0jSzQtVJmbeWNPMU3KHAmPT9GOC4kv1jI2JlRMwBZgODW4w34+8yM6uKnA3NHpKmlGyjMpxiu4hYCJC+9kr39wFeKCk3L91XlgeCzKxY+QaCGir4NMqmztzi43nd0jSzwjSu3J71vw20SFJvgPR1cbp/HtC3pNyOwIKWKnPSNLPipCu3Z9020ARgZPp+JDC+ZP9wSV0l9QfqgYdaqsyX52ZWqEpO00yfgnsYSd/nPOB84CJgXPpE3LnAMICImCFpHDATWA2cFhFrWjqHk6aZFauCWbPMU3CPaKb8aGB0nnM4aZpZgTaqr7IQTppmVqhau43SSdPMClODixw5aZpZsVRjTU0nTTMrVI3lTCdNMytWjeVMJ00zK9DGTVovhJOmmRWstrKmk6aZFaYWV2530jSzQtVYznTSNLNiuaVpZpaDb6M0M8ujtnKmk6aZFUeCOidNM7PsfHluZpZHbeVMJ00zK1aN5UwnTTMrlqccmZll5pXbzcwyq8XbKP0IXzOzHNzSNLNC1VpL00nTzArlPk0zs6y8CLGZWXa1OBDkpGlmhfLluZlZDm5pmpnlUGM500nTzApWY1nTSdPMCuU+TTOzjGpx9FwRUXQMb5O0BHi+6DhaQQ+goeggrKI6yr/pThHRs1KVSZpI8rfLqiEihlTq/BuiTSXNjkLSlIgYVHQcVjn+N+04vGCHmVkOTppmZjk4aRbjiqIDsIrzv2kH4T5NM7Mc3NI0M8vBSdPMLAcnzVYkaYikpyXNlnR20fHYxpP0R0mLJU0vOhZrHU6arURSJ+Ay4GhgAHCCpAHFRmUVcA1Q6GRra11Omq1nMDA7Ip6NiLeAscDQgmOyjRQR9wIvFR2HtR4nzdbTB3ih5PO8dJ+Z1RAnzdbT1LIEnu9lVmOcNFvPPKBvyecdgQUFxWJmG8hJs/U8DNRL6i+pCzAcmFBwTGaWk5NmK4mI1cBXgDuAJ4FxETGj2KhsY0m6HngQ2E3SPEmnFB2TVZdvozQzy8EtTTOzHJw0zcxycNI0M8vBSdPMLAcnTTOzHJw02xFJayRNkzRd0o2SNt+Iuq6R9On0/VXlFheRdJikD27AOZ6T9K4nETa3f70yy3Oe6wJJZ+aN0Wx9Tprty5sRMTAi9gTeAk4t/TJdaSm3iPhCRMwsU+QwIHfSNKtFTprt133Armkr8N+S/gI8IamTpJ9JeljS45K+CKDEbyTNlHQr0KuxIkl3SxqUvh8i6RFJj0maJOk9JMn5G2kr90OSekr6W3qOhyUdlB67raQ7JT0q6fc0fT/+OiT9XdJUSTMkjVrvu4vTWCZJ6pnu20XSxPSY+yTtXpG/plmqc9EBWOVJ6kyybufEdNdgYM+ImJMmnmURsb+krsADku4E9gF2A/YCtgNmAn9cr96ewJXAIWld3SPiJUm/A5ZHxM/Tcn8BfhkR90vqR3IX1PuA84H7I+L7kj4GrJMEm/H59BybAQ9L+ltELAW2AB6JiG9KOi+t+yskDzg7NSJmSfoAcDnw4Q34M5o1yUmzfdlM0rT0/X3AH0gumx+KiDnp/o8C72/srwS2AeqBQ4DrI2INsEDSv5qo/wDg3sa6IqK5dSQ/AgyQ3m5Ibi1pq/Qcn0qPvVXSyxl+0+mSPpm+75vGuhRYC9yQ7r8WuEnSlunvvbHk3F0znMMsMyfN9uXNiBhYuiNNHq+X7gK+GhF3rFfuGFpeqk4ZykDS7XNgRLzZRCyZ79uVdBhJAj4wIt6QdDewaTPFIz3vK+v/DcwqyX2aHc8dwJckbQIg6b2StgDuBYanfZ69gcObOPZB4FBJ/dNju6f7XwO2Kil3J8mlMmm5genbe4ER6b6jgW4txLoN8HKaMHcnaek2qgMaW8snklz2vwrMkTQsPYck7d3COcxycdLseK4i6a98JH0Y2O9JrjhuBmYBTwC/Be5Z/8CIWELSD3mTpMd45/L4H8AnGweCgNOBQelA00zeGcW/EDhE0iMk3QRzW4h1ItBZ0uPAD4D/K/nudWAPSVNJ+iy/n+4fAZySxjcDP1LEKsyrHJmZ5eCWpplZDk6aZmY5OGmameXgpGlmloOTpplZDk6aZmY5OGmameXw/wFXZycbYzN65gAAAABJRU5ErkJggg==\n",
>>>>>>> Stashed changes
      "text/plain": [
       "<Figure size 432x288 with 2 Axes>"
      ]
     },
     "metadata": {
      "needs_background": "light"
     },
     "output_type": "display_data"
    }
   ],
   "source": [
    "cnf_matrix_tra = confusion_matrix(y_train_under, y_pred_train)\n",
    "\n",
    "print(\"Recall metric in the train dataset: {}%\".format(100*cnf_matrix_tra[1,1]/(cnf_matrix_tra[1,0]+cnf_matrix_tra[1,1])))\n",
    "print(\"Precision metric in the train dataset: {}%\".format(100*cnf_matrix_tra[0,0]/(cnf_matrix_tra[0,0]+cnf_matrix_tra[1,0])))\n",
    "\n",
    "\n",
    "\n",
    "class_names = [0,1]\n",
    "plt.figure()\n",
    "plot_confusion_matrix(cnf_matrix_tra , classes=class_names, title='Confusion matrix')\n",
    "plt.show()"
   ]
  },
  {
   "cell_type": "code",
   "execution_count": 11,
   "id": "e126ef7a-4297-47e8-a714-b61410003c02",
   "metadata": {},
   "outputs": [
    {
     "name": "stdout",
     "output_type": "stream",
     "text": [
<<<<<<< Updated upstream
      "Recall metric in the testing dataset: 100.0%\n",
      "Precision metric in the testing dataset: 100.0%\n"
=======
      "Recall metric in the testing dataset: 60.0%\n",
      "Precision metric in the testing dataset: 95.92128801431127%\n"
>>>>>>> Stashed changes
     ]
    },
    {
     "data": {
<<<<<<< Updated upstream
      "image/png": "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\n",
=======
      "image/png": "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\n",
>>>>>>> Stashed changes
      "text/plain": [
       "<Figure size 432x288 with 2 Axes>"
      ]
     },
     "metadata": {
      "needs_background": "light"
     },
     "output_type": "display_data"
    }
   ],
   "source": [
    "\n",
    "cnf_matrix = confusion_matrix(y_test, y_pred)\n",
    "\n",
    "print(\"Recall metric in the testing dataset: {}%\".format(100*cnf_matrix[1,1]/(cnf_matrix[1,0]+cnf_matrix[1,1])))\n",
    "print(\"Precision metric in the testing dataset: {}%\".format(100*cnf_matrix[0,0]/(cnf_matrix[0,0]+cnf_matrix[1,0])))\n",
    "# Plot non-normalized confusion matrix\n",
    "class_names = [0,1]\n",
    "plt.figure()\n",
    "plot_confusion_matrix(cnf_matrix , classes=class_names, title='Confusion matrix')\n",
    "plt.show()"
   ]
  },
  {
<<<<<<< Updated upstream
   "cell_type": "code",
   "execution_count": null,
   "id": "3b38c7e2-39d9-44a7-94c3-162a28eb454d",
   "metadata": {},
   "outputs": [],
   "source": []
=======
   "cell_type": "markdown",
   "id": "d005d35d-53ff-4697-9c22-85949207ad37",
   "metadata": {},
   "source": [
    "## "
   ]
>>>>>>> Stashed changes
  }
 ],
 "metadata": {
  "kernelspec": {
   "display_name": "Python 3 (ipykernel)",
   "language": "python",
   "name": "python3"
  },
  "language_info": {
   "codemirror_mode": {
    "name": "ipython",
    "version": 3
   },
   "file_extension": ".py",
   "mimetype": "text/x-python",
   "name": "python",
   "nbconvert_exporter": "python",
   "pygments_lexer": "ipython3",
   "version": "3.9.7"
  }
 },
 "nbformat": 4,
 "nbformat_minor": 5
}
