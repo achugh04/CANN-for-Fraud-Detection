{
 "cells": [
  {
   "cell_type": "markdown",
   "id": "d648028b",
   "metadata": {},
   "source": [
    "# Undersampling method approach"
   ]
  },
  {
   "cell_type": "code",
   "execution_count": 19,
   "id": "d4ff7f7a",
   "metadata": {},
   "outputs": [],
   "source": [
    "import pandas  as pd\n",
    "import matplotlib.pyplot as plt\n",
    "import numpy as np\n",
    "from collections import Counter\n",
    "from sklearn.datasets import make_classification as mkc\n",
    "from imblearn.under_sampling import NearMiss\n",
    "from sklearn.ensemble import RandomForestClassifier\n",
    "\n",
    "%matplotlib inline\n",
    "\n",
    "data = pd.read_csv('/Users/abhiishekchugh/Documents/GitHub/CANN-for-Fraud-Detection/Automobile Insurance/data/pre-processing done/Pre-Processed-Encoded_Chugh.csv')\n"
   ]
  },
  {
   "cell_type": "code",
   "execution_count": 20,
   "id": "b7372f30",
   "metadata": {},
   "outputs": [
    {
     "name": "stdout",
     "output_type": "stream",
     "text": [
      "Shape of X: (15420, 97)\n",
      "Shape of y: (15420, 1)\n"
     ]
    },
    {
     "data": {
      "image/png": "[encoded data removed]",
      "text/plain": [
       "<Figure size 432x288 with 1 Axes>"
      ]
     },
     "metadata": {
      "needs_background": "light"
     },
     "output_type": "display_data"
    }
   ],
   "source": [
    "#plotting number of Fraud and non-Fraud\n",
    "pd.value_counts(data['FraudFound']).plot.bar()\n",
    "plt.title('Fraud class histogram')\n",
    "plt.xlabel('Fraud Found')\n",
    "plt.ylabel('Frequency')\n",
    "data['FraudFound'].value_counts()\n",
    "\n",
    "X = np.array(data.iloc[:, data.columns != 'FraudFound'])\n",
    "y = np.array(data.iloc[:, data.columns == 'FraudFound'])\n",
    "print('Shape of X: {}'.format(X.shape))\n",
    "print('Shape of y: {}'.format(y.shape))"
   ]
  },
  {
   "cell_type": "code",
   "execution_count": 21,
   "id": "53229f6c",
   "metadata": {},
   "outputs": [
    {
     "name": "stdout",
     "output_type": "stream",
     "text": [
      "Number policies X_train dataset:  (10794, 97)\n",
      "Number policies  y_train dataset:  (10794, 1)\n",
      "Number policies  X_test dataset:  (4626, 97)\n",
      "Number policies  y_test dataset:  (4626, 1)\n",
      "Before UnderSampling, counts of label '1': [638]\n",
      "Before UnderSampling, counts of label '0': [10156] \n",
      "\n"
     ]
    }
   ],
   "source": [
    "from sklearn.model_selection import train_test_split\n",
    "\n",
    "X_train, X_test, y_train, y_test = train_test_split(X, y, test_size=0.3, random_state=42)\n",
    "\n",
    "print(\"Number policies X_train dataset: \", X_train.shape)\n",
    "print(\"Number policies  y_train dataset: \", y_train.shape)\n",
    "print(\"Number policies  X_test dataset: \", X_test.shape)\n",
    "print(\"Number policies  y_test dataset: \", y_test.shape)\n",
    "\n",
    "print(\"Before UnderSampling, counts of label '1': {}\".format(sum(y_train==1)))\n",
    "print(\"Before UnderSampling, counts of label '0': {} \\n\".format(sum(y_train==0)))\n",
    "# data.columns.size"
   ]
  },
  {
   "cell_type": "markdown",
   "id": "eae39522",
   "metadata": {},
   "source": [
    "## Undersampling Step"
   ]
  },
  {
   "cell_type": "code",
   "execution_count": 22,
   "id": "ca93bd7b",
   "metadata": {},
   "outputs": [],
   "source": [
    "undersample = NearMiss(version=3, n_neighbors=3)\n",
    "X_train_under, y_train_under = undersample.fit_resample(X_train, y_train)\n",
    "\n",
    "# X_train_res, y_train_res = mkc(n_samples=10794, n_features=98, n_redundant=0, random_state=1)"
   ]
  },
  {
   "cell_type": "markdown",
   "id": "a4d888ee",
   "metadata": {},
   "source": [
    "## Plotting the undersampled data selected using NearMiss version=2"
   ]
  },
  {
   "cell_type": "code",
   "execution_count": 23,
   "id": "f6e04ef9",
   "metadata": {},
   "outputs": [
    {
     "data": {
      "image/png": "[encoded data removed]",
      "text/plain": [
       "<Figure size 432x288 with 1 Axes>"
      ]
     },
     "metadata": {
      "needs_background": "light"
     },
     "output_type": "display_data"
    }
   ],
   "source": [
    "counter = Counter(y_train_under)\n",
    "\n",
    "# scatter plot of examples by class label\n",
    "for label, _ in counter.items():\n",
    "    row_ix = np.where(y_train_under == label)[0]\n",
    "    plt.scatter(X_train_under[row_ix, 0], X_train_under[row_ix, 1], label=str(label))\n",
    "plt.legend()\n",
    "plt.show()"
   ]
  },
  {
   "cell_type": "code",
   "execution_count": 24,
   "id": "230b9b42",
   "metadata": {},
   "outputs": [
    {
     "name": "stdout",
     "output_type": "stream",
     "text": [
      "After UnderSampling, the shape of train_X: (1276, 97)\n",
      "After UnderSampling, the shape of train_y: (1276,) \n",
      "\n",
      "After UnderSampling, counts of label '1': 638\n",
      "After UnderSampling, counts of label '0': 638\n"
     ]
    }
   ],
   "source": [
    "print('After UnderSampling, the shape of train_X: {}'.format(X_train_under.shape))\n",
    "print('After UnderSampling, the shape of train_y: {} \\n'.format(y_train_under.shape))\n",
    "\n",
    "print(\"After UnderSampling, counts of label '1': {}\".format(sum(y_train_under==1)))\n",
    "print(\"After UnderSampling, counts of label '0': {}\".format(sum(y_train_under==0)))"
   ]
  },
  {
   "cell_type": "markdown",
   "id": "9e6ce552-b2f8-4d8d-9eed-55d181d9a720",
   "metadata": {
    "id": "W0E0BFunDxoB"
   },
   "source": [
    "# Creating Random Forest Classifier"
   ]
  },
  {
   "cell_type": "code",
   "execution_count": 25,
   "id": "f79a8da1-2f55-4dd3-af72-136b59a9b4a4",
   "metadata": {
    "colab": {
     "base_uri": "https://localhost:8080/"
    },
    "id": "KCexTkNaDwK4",
    "outputId": "00a230a7-8738-4ae3-fa6c-71ab34a1b27f"
   },
   "outputs": [
    {
     "data": {
      "text/plain": [
       "RandomForestClassifier(criterion='entropy', n_estimators=10, random_state=42)"
      ]
     },
     "execution_count": 25,
     "metadata": {},
     "output_type": "execute_result"
    }
   ],
   "source": [
    "# Fitting Random Forest Classification to the Training set\n",
    "from sklearn.ensemble import RandomForestClassifier\n",
    "from sklearn.metrics import confusion_matrix, precision_recall_curve, auc, roc_auc_score, roc_curve, recall_score, classification_report\n",
    "\n",
    "\n",
    "classifier = RandomForestClassifier(n_estimators = 10, criterion= 'entropy', random_state = 42)\n",
    "classifier.fit(X_train_under, y_train_under)"
   ]
  },
  {
   "cell_type": "code",
   "execution_count": 26,
   "id": "7a0172f1-0b29-419d-af93-f317b9ca4258",
   "metadata": {
    "id": "lreKGwc3gLW-"
   },
   "outputs": [],
   "source": [
    "# Predicting the Test set results\n",
    "y_pred_train = classifier.predict(X_train_under)\n",
    "y_pred = classifier.predict(X_test)"
   ]
  },
  {
   "cell_type": "markdown",
   "id": "b35f9bf7",
   "metadata": {},
   "source": [
    "## Confusion matrix plotting function"
   ]
  },
  {
   "cell_type": "code",
   "execution_count": 27,
   "id": "7e4547ca",
   "metadata": {},
   "outputs": [],
   "source": [
    "import itertools\n",
    "\n",
    "def plot_confusion_matrix(cm, classes,\n",
    "                          normalize=False,\n",
    "                          title='Confusion matrix',\n",
    "                          cmap=plt.cm.Blues):\n",
    "    \"\"\"\n",
    "    This function prints and plots the confusion matrix.\n",
    "    Normalization can be applied by setting `normalize=True`.\n",
    "    \"\"\"\n",
    "    plt.imshow(cm, interpolation='nearest', cmap=cmap)\n",
    "    plt.title(title)\n",
    "    plt.colorbar()\n",
    "    tick_marks = np.arange(len(classes))\n",
    "    plt.xticks(tick_marks, classes, rotation=0)\n",
    "    plt.yticks(tick_marks, classes)\n",
    "\n",
    "    if normalize:\n",
    "        cm = cm.astype('float') / cm.sum(axis=1)[:, np.newaxis]\n",
    "        #print(\"Normalized confusion matrix\")\n",
    "    else:\n",
    "        1#print('Confusion matrix, without normalization')\n",
    "\n",
    "    #print(cm)\n",
    "\n",
    "    thresh = cm.max() / 2.\n",
    "    for i, j in itertools.product(range(cm.shape[0]), range(cm.shape[1])):\n",
    "        plt.text(j, i, cm[i, j],\n",
    "                 horizontalalignment=\"center\",\n",
    "                 color=\"white\" if cm[i, j] > thresh else \"black\")\n",
    "\n",
    "    plt.tight_layout()\n",
    "    plt.ylabel('True label')\n",
    "    plt.xlabel('Predicted label')"
   ]
  },
  {
   "cell_type": "code",
   "execution_count": 28,
   "id": "ee6da87a",
   "metadata": {},
   "outputs": [
    {
     "name": "stdout",
     "output_type": "stream",
     "text": [
      "Recall metric in the train dataset: 100.0%\n",
      "Precision metric in the train dataset: 100.0%\n"
     ]
    },
    {
     "data": {
      "image/png": "[encoded data removed]",
      "text/plain": [
       "<Figure size 432x288 with 2 Axes>"
      ]
     },
     "metadata": {
      "needs_background": "light"
     },
     "output_type": "display_data"
    }
   ],
   "source": [
    "cnf_matrix_tra = confusion_matrix(y_train_under, y_pred_train)\n",
    "\n",
    "print(\"Recall metric in the train dataset: {}%\".format(100*cnf_matrix_tra[1,1]/(cnf_matrix_tra[1,0]+cnf_matrix_tra[1,1])))\n",
    "print(\"Precision metric in the train dataset: {}%\".format(100*cnf_matrix_tra[0,0]/(cnf_matrix_tra[0,0]+cnf_matrix_tra[1,0])))\n",
    "\n",
    "\n",
    "\n",
    "class_names = [0,1]\n",
    "plt.figure()\n",
    "plot_confusion_matrix(cnf_matrix_tra , classes=class_names, title='Confusion matrix')\n",
    "plt.show()"
   ]
  },
  {
   "cell_type": "code",
   "execution_count": 29,
   "id": "6f5cda38",
   "metadata": {},
   "outputs": [
    {
     "name": "stdout",
     "output_type": "stream",
     "text": [
      "Recall metric in the testing dataset: 99.64912280701755%\n",
      "Precision metric in the testing dataset: 99.97695852534562%\n"
     ]
    },
    {
     "data": {
      "image/png": "[encoded data removed]",
      "text/plain": [
       "<Figure size 432x288 with 2 Axes>"
      ]
     },
     "metadata": {
      "needs_background": "light"
     },
     "output_type": "display_data"
    }
   ],
   "source": [
    "\n",
    "cnf_matrix = confusion_matrix(y_test, y_pred)\n",
    "\n",
    "print(\"Recall metric in the testing dataset: {}%\".format(100*cnf_matrix[1,1]/(cnf_matrix[1,0]+cnf_matrix[1,1])))\n",
    "print(\"Precision metric in the testing dataset: {}%\".format(100*cnf_matrix[0,0]/(cnf_matrix[0,0]+cnf_matrix[1,0])))\n",
    "# Plot non-normalized confusion matrix\n",
    "class_names = [0,1]\n",
    "plt.figure()\n",
    "plot_confusion_matrix(cnf_matrix , classes=class_names, title='Confusion matrix')\n",
    "plt.show()"
   ]
  },
  {
   "cell_type": "code",
   "execution_count": null,
   "id": "3b38c7e2-39d9-44a7-94c3-162a28eb454d",
   "metadata": {},
   "outputs": [],
   "source": []
  }
 ],
 "metadata": {
  "kernelspec": {
   "display_name": "Python 3 (ipykernel)",
   "language": "python",
   "name": "python3"
  },
  "language_info": {
   "codemirror_mode": {
    "name": "ipython",
    "version": 3
   },
   "file_extension": ".py",
   "mimetype": "text/x-python",
   "name": "python",
   "nbconvert_exporter": "python",
   "pygments_lexer": "ipython3",
   "version": "3.9.7"
  }
 },
 "nbformat": 4,
 "nbformat_minor": 5
}
